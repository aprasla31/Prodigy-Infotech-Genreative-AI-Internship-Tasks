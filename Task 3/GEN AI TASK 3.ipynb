{
 "cells": [
  {
   "cell_type": "code",
   "execution_count": null,
   "id": "42bc65c0",
   "metadata": {},
   "outputs": [],
   "source": [
    "import random\n",
    "\n",
    "transitions = {\n",
    "    'start': {'the': 0.2, 'a': 0.1, 'he': 0.1, 'she': 0.1},\n",
    "    'the': {'small': 0.5, 'lazy': 0.5},\n",
    "    'a': {'small': 0.5, 'lazy': 0.5},\n",
    "    'he': {'small': 0.5, 'lazy': 0.5},\n",
    "    'she': {'small': 0.5, 'lazy': 0.5},\n",
    "    'small': {'brown': 1.0},\n",
    "    'lazy': {'cat': 1.0},\n",
    "    'brown': {'dog': 1.0},\n",
    "    'cat': {'jumped': 1.0},\n",
    "    'jumped': {'over': 1.0, 'end': 1.0},\n",
    "    'over': {'the': 0.5, 'a': 0.5},\n",
    "    'dog': {'end': 1.0},\n",
    "    'end': {}\n",
    "}\n",
    "\n",
    "def generate_text(length):\n",
    "    current_word = random.choice(list(transitions['start'].keys()))\n",
    "    text = [current_word]\n",
    "    for _ in range(length - 1):\n",
    "        next_word = random.choices(\n",
    "            list(transitions[current_word].keys()), \n",
    "            weights=list(transitions[current_word].values()), \n",
    "            k=1\n",
    "        )[0]\n",
    "        if next_word == 'end':\n",
    "            break\n",
    "        text.append(next_word)\n",
    "        current_word = next_word  \n",
    "    return ' '.join(text)\n",
    "print(generate_text(10))"
   ]
  },
  {
   "cell_type": "code",
   "execution_count": null,
   "id": "15abfa3e",
   "metadata": {},
   "outputs": [],
   "source": []
  },
  {
   "cell_type": "code",
   "execution_count": null,
   "id": "ff5c5f07",
   "metadata": {},
   "outputs": [],
   "source": []
  }
 ],
 "metadata": {
  "kernelspec": {
   "display_name": "Python 3 (ipykernel)",
   "language": "python",
   "name": "python3"
  },
  "language_info": {
   "codemirror_mode": {
    "name": "ipython",
    "version": 3
   },
   "file_extension": ".py",
   "mimetype": "text/x-python",
   "name": "python",
   "nbconvert_exporter": "python",
   "pygments_lexer": "ipython3",
   "version": "3.11.5"
  }
 },
 "nbformat": 4,
 "nbformat_minor": 5
}
